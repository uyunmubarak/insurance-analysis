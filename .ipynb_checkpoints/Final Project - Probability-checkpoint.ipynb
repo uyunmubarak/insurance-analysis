{
 "cells": [
  {
   "cell_type": "markdown",
   "id": "4a5e6ef9",
   "metadata": {},
   "source": [
    "## Background Project"
   ]
  },
  {
   "cell_type": "markdown",
   "id": "bc150455",
   "metadata": {},
   "source": [
    "Asuransi kesehatan adalah salah satu hal yang patut diperhatikan karena bersangkutan dengan kebutuhan perencanaan masa depan. Pengguna asuransi kesehatan diwajibkan untuk membayar besaran uang secara rutin (premi) kepada pihak perusahaan asuransi. Premi tersebut diolah oleh perusahaan asuransi untuk membayarkan tagihan kesehatan pengguna yang tertanggung. Penentuan nilai premi menjadi tantangan tersendiri bagi pihak asuransi mengingat ada banyak faktor yang dapat mempengaruhi & meningkatkan profil resiko pengguna."
   ]
  },
  {
   "cell_type": "markdown",
   "id": "3e0a842f",
   "metadata": {},
   "source": [
    "Melalui project ini, dilakukan analisa variable-variabel yang memiliki hubungan dengan tagihan kesehatan yang diterima oleh setiap pengguna."
   ]
  },
  {
   "cell_type": "markdown",
   "id": "fce6dc6b",
   "metadata": {},
   "source": [
    "### Dataset"
   ]
  },
  {
   "cell_type": "markdown",
   "id": "899eacb4",
   "metadata": {},
   "source": [
    "Dataset yang disediakan adalah data tagihan kesehatan personal. Data ini memiliki 7 variable dengan variable charges menunjukkan besaran tagihan kesehatan. Deskripsi setiap kolom dari dataset adalah sebagai berikut:"
   ]
  },
  {
   "cell_type": "markdown",
   "id": "d304b99e",
   "metadata": {},
   "source": [
    "- Age : Age of primary beneficiary\n",
    "- Sex : Insurance contractor gender, female, male\n",
    "- BMI : Body mass index, providing an understanding of body, weights that are relatively high or low relative to height, objective index of body weight (kg/m2) using the ratio of height to weight, ideally 18.5 to 24.9\n",
    "- Children : Number of children covered by health insurance / Number of dependents\n",
    "- Smoker : Smoking\n",
    "- Region : The beneficiary's residential area in the US, northeast, southeast, southwest, northwest.\n",
    "- Charges : Individual medical costs billed by health insurance"
   ]
  },
  {
   "cell_type": "code",
   "execution_count": 1,
   "id": "7fc81c30",
   "metadata": {},
   "outputs": [],
   "source": [
    "import pandas as pd\n",
    "import numpy as np\n",
    "import seaborn as sns\n",
    "import matplotlib.pyplot as plt\n",
    "from scipy import stats"
   ]
  },
  {
   "cell_type": "code",
   "execution_count": 2,
   "id": "ad46be0e",
   "metadata": {},
   "outputs": [
    {
     "data": {
      "text/html": [
       "<div>\n",
       "<style scoped>\n",
       "    .dataframe tbody tr th:only-of-type {\n",
       "        vertical-align: middle;\n",
       "    }\n",
       "\n",
       "    .dataframe tbody tr th {\n",
       "        vertical-align: top;\n",
       "    }\n",
       "\n",
       "    .dataframe thead th {\n",
       "        text-align: right;\n",
       "    }\n",
       "</style>\n",
       "<table border=\"1\" class=\"dataframe\">\n",
       "  <thead>\n",
       "    <tr style=\"text-align: right;\">\n",
       "      <th></th>\n",
       "      <th>age</th>\n",
       "      <th>sex</th>\n",
       "      <th>bmi</th>\n",
       "      <th>children</th>\n",
       "      <th>smoker</th>\n",
       "      <th>region</th>\n",
       "      <th>charges</th>\n",
       "    </tr>\n",
       "  </thead>\n",
       "  <tbody>\n",
       "    <tr>\n",
       "      <th>0</th>\n",
       "      <td>19</td>\n",
       "      <td>female</td>\n",
       "      <td>27.900</td>\n",
       "      <td>0</td>\n",
       "      <td>yes</td>\n",
       "      <td>southwest</td>\n",
       "      <td>16884.92400</td>\n",
       "    </tr>\n",
       "    <tr>\n",
       "      <th>1</th>\n",
       "      <td>18</td>\n",
       "      <td>male</td>\n",
       "      <td>33.770</td>\n",
       "      <td>1</td>\n",
       "      <td>no</td>\n",
       "      <td>southeast</td>\n",
       "      <td>1725.55230</td>\n",
       "    </tr>\n",
       "    <tr>\n",
       "      <th>2</th>\n",
       "      <td>28</td>\n",
       "      <td>male</td>\n",
       "      <td>33.000</td>\n",
       "      <td>3</td>\n",
       "      <td>no</td>\n",
       "      <td>southeast</td>\n",
       "      <td>4449.46200</td>\n",
       "    </tr>\n",
       "    <tr>\n",
       "      <th>3</th>\n",
       "      <td>33</td>\n",
       "      <td>male</td>\n",
       "      <td>22.705</td>\n",
       "      <td>0</td>\n",
       "      <td>no</td>\n",
       "      <td>northwest</td>\n",
       "      <td>21984.47061</td>\n",
       "    </tr>\n",
       "    <tr>\n",
       "      <th>4</th>\n",
       "      <td>32</td>\n",
       "      <td>male</td>\n",
       "      <td>28.880</td>\n",
       "      <td>0</td>\n",
       "      <td>no</td>\n",
       "      <td>northwest</td>\n",
       "      <td>3866.85520</td>\n",
       "    </tr>\n",
       "    <tr>\n",
       "      <th>...</th>\n",
       "      <td>...</td>\n",
       "      <td>...</td>\n",
       "      <td>...</td>\n",
       "      <td>...</td>\n",
       "      <td>...</td>\n",
       "      <td>...</td>\n",
       "      <td>...</td>\n",
       "    </tr>\n",
       "    <tr>\n",
       "      <th>1333</th>\n",
       "      <td>50</td>\n",
       "      <td>male</td>\n",
       "      <td>30.970</td>\n",
       "      <td>3</td>\n",
       "      <td>no</td>\n",
       "      <td>northwest</td>\n",
       "      <td>10600.54830</td>\n",
       "    </tr>\n",
       "    <tr>\n",
       "      <th>1334</th>\n",
       "      <td>18</td>\n",
       "      <td>female</td>\n",
       "      <td>31.920</td>\n",
       "      <td>0</td>\n",
       "      <td>no</td>\n",
       "      <td>northeast</td>\n",
       "      <td>2205.98080</td>\n",
       "    </tr>\n",
       "    <tr>\n",
       "      <th>1335</th>\n",
       "      <td>18</td>\n",
       "      <td>female</td>\n",
       "      <td>36.850</td>\n",
       "      <td>0</td>\n",
       "      <td>no</td>\n",
       "      <td>southeast</td>\n",
       "      <td>1629.83350</td>\n",
       "    </tr>\n",
       "    <tr>\n",
       "      <th>1336</th>\n",
       "      <td>21</td>\n",
       "      <td>female</td>\n",
       "      <td>25.800</td>\n",
       "      <td>0</td>\n",
       "      <td>no</td>\n",
       "      <td>southwest</td>\n",
       "      <td>2007.94500</td>\n",
       "    </tr>\n",
       "    <tr>\n",
       "      <th>1337</th>\n",
       "      <td>61</td>\n",
       "      <td>female</td>\n",
       "      <td>29.070</td>\n",
       "      <td>0</td>\n",
       "      <td>yes</td>\n",
       "      <td>northwest</td>\n",
       "      <td>29141.36030</td>\n",
       "    </tr>\n",
       "  </tbody>\n",
       "</table>\n",
       "<p>1338 rows × 7 columns</p>\n",
       "</div>"
      ],
      "text/plain": [
       "      age     sex     bmi  children smoker     region      charges\n",
       "0      19  female  27.900         0    yes  southwest  16884.92400\n",
       "1      18    male  33.770         1     no  southeast   1725.55230\n",
       "2      28    male  33.000         3     no  southeast   4449.46200\n",
       "3      33    male  22.705         0     no  northwest  21984.47061\n",
       "4      32    male  28.880         0     no  northwest   3866.85520\n",
       "...   ...     ...     ...       ...    ...        ...          ...\n",
       "1333   50    male  30.970         3     no  northwest  10600.54830\n",
       "1334   18  female  31.920         0     no  northeast   2205.98080\n",
       "1335   18  female  36.850         0     no  southeast   1629.83350\n",
       "1336   21  female  25.800         0     no  southwest   2007.94500\n",
       "1337   61  female  29.070         0    yes  northwest  29141.36030\n",
       "\n",
       "[1338 rows x 7 columns]"
      ]
     },
     "execution_count": 2,
     "metadata": {},
     "output_type": "execute_result"
    }
   ],
   "source": [
    "df = pd.read_csv('insurance.csv')\n",
    "df"
   ]
  },
  {
   "cell_type": "code",
   "execution_count": 3,
   "id": "b3a4eb3f",
   "metadata": {},
   "outputs": [
    {
     "name": "stdout",
     "output_type": "stream",
     "text": [
      "<class 'pandas.core.frame.DataFrame'>\n",
      "RangeIndex: 1338 entries, 0 to 1337\n",
      "Data columns (total 7 columns):\n",
      " #   Column    Non-Null Count  Dtype  \n",
      "---  ------    --------------  -----  \n",
      " 0   age       1338 non-null   int64  \n",
      " 1   sex       1338 non-null   object \n",
      " 2   bmi       1338 non-null   float64\n",
      " 3   children  1338 non-null   int64  \n",
      " 4   smoker    1338 non-null   object \n",
      " 5   region    1338 non-null   object \n",
      " 6   charges   1338 non-null   float64\n",
      "dtypes: float64(2), int64(2), object(3)\n",
      "memory usage: 73.3+ KB\n"
     ]
    }
   ],
   "source": [
    "df.info()"
   ]
  },
  {
   "cell_type": "markdown",
   "id": "c4ad8b36",
   "metadata": {},
   "source": [
    "###  Analisa Descriptive Statistic\n",
    "Lakukan eksplorasi data dengan merangkum karakter-karakter berdasarkan data seperti mencari rata-rata dan persebaran data"
   ]
  },
  {
   "cell_type": "markdown",
   "id": "417921ae",
   "metadata": {},
   "source": [
    "1. Berapa rata-rata umur dari data tersebut?"
   ]
  },
  {
   "cell_type": "code",
   "execution_count": 4,
   "id": "ddedf677",
   "metadata": {},
   "outputs": [
    {
     "name": "stdout",
     "output_type": "stream",
     "text": [
      "39.20702541106129\n"
     ]
    }
   ],
   "source": [
    "mean_age = df['age'].mean()\n",
    "print(mean_age)"
   ]
  },
  {
   "cell_type": "markdown",
   "id": "872af073",
   "metadata": {},
   "source": [
    "2. Berapa rata-rata nilai BMI dari yang merokok?"
   ]
  },
  {
   "cell_type": "code",
   "execution_count": 5,
   "id": "11672d0c",
   "metadata": {},
   "outputs": [
    {
     "name": "stdout",
     "output_type": "stream",
     "text": [
      "      age     sex     bmi  children  smoker     region      charges\n",
      "0      19  female  27.900         0       1  southwest  16884.92400\n",
      "1      18    male  33.770         1       0  southeast   1725.55230\n",
      "2      28    male  33.000         3       0  southeast   4449.46200\n",
      "3      33    male  22.705         0       0  northwest  21984.47061\n",
      "4      32    male  28.880         0       0  northwest   3866.85520\n",
      "...   ...     ...     ...       ...     ...        ...          ...\n",
      "1333   50    male  30.970         3       0  northwest  10600.54830\n",
      "1334   18  female  31.920         0       0  northeast   2205.98080\n",
      "1335   18  female  36.850         0       0  southeast   1629.83350\n",
      "1336   21  female  25.800         0       0  southwest   2007.94500\n",
      "1337   61  female  29.070         0       1  northwest  29141.36030\n",
      "\n",
      "[1338 rows x 7 columns]\n"
     ]
    }
   ],
   "source": [
    "df[\"smoker\"] = df[\"smoker\"].replace({\"yes\":1, \"no\":0})\n",
    "print(df)"
   ]
  },
  {
   "cell_type": "code",
   "execution_count": 6,
   "id": "b0bf8bc5",
   "metadata": {},
   "outputs": [
    {
     "name": "stdout",
     "output_type": "stream",
     "text": [
      "30.708448905109503\n"
     ]
    }
   ],
   "source": [
    "mean_bmi_smoker_yes = df[df['smoker']==1]['bmi'].mean()\n",
    "print(mean_bmi_smoker_yes)"
   ]
  },
  {
   "cell_type": "markdown",
   "id": "ece790c4",
   "metadata": {},
   "source": [
    "3. Apakah variansi dari data charges perokok dan non perokok sama?"
   ]
  },
  {
   "cell_type": "code",
   "execution_count": 7,
   "id": "80a44d33",
   "metadata": {},
   "outputs": [
    {
     "name": "stdout",
     "output_type": "stream",
     "text": [
      "133207311.20634921\n"
     ]
    }
   ],
   "source": [
    "variance_charges_smoker = df[df['smoker']==1]['charges'].var()\n",
    "print(variance_charges_smoker)"
   ]
  },
  {
   "cell_type": "code",
   "execution_count": 8,
   "id": "85b4c895",
   "metadata": {},
   "outputs": [
    {
     "name": "stdout",
     "output_type": "stream",
     "text": [
      "35925420.49611172\n"
     ]
    }
   ],
   "source": [
    "variance_charges_noSmoker = df[df['smoker']==0]['charges'].var()\n",
    "print(variance_charges_noSmoker)"
   ]
  },
  {
   "cell_type": "markdown",
   "id": "cf7721e2",
   "metadata": {},
   "source": [
    "*Ternyata variansi dari data charges perokok dan non perokok tidak sama*"
   ]
  },
  {
   "cell_type": "markdown",
   "id": "3b2bc937",
   "metadata": {},
   "source": [
    "4. Apakah rata-rata umur perempuan dan laki-laki yang merokok sama?"
   ]
  },
  {
   "cell_type": "code",
   "execution_count": 9,
   "id": "b75368a8",
   "metadata": {},
   "outputs": [
    {
     "name": "stdout",
     "output_type": "stream",
     "text": [
      "      age  sex     bmi  children  smoker     region      charges\n",
      "0      19    1  27.900         0       1  southwest  16884.92400\n",
      "1      18    0  33.770         1       0  southeast   1725.55230\n",
      "2      28    0  33.000         3       0  southeast   4449.46200\n",
      "3      33    0  22.705         0       0  northwest  21984.47061\n",
      "4      32    0  28.880         0       0  northwest   3866.85520\n",
      "...   ...  ...     ...       ...     ...        ...          ...\n",
      "1333   50    0  30.970         3       0  northwest  10600.54830\n",
      "1334   18    1  31.920         0       0  northeast   2205.98080\n",
      "1335   18    1  36.850         0       0  southeast   1629.83350\n",
      "1336   21    1  25.800         0       0  southwest   2007.94500\n",
      "1337   61    1  29.070         0       1  northwest  29141.36030\n",
      "\n",
      "[1338 rows x 7 columns]\n"
     ]
    }
   ],
   "source": [
    "df[\"sex\"] = df[\"sex\"].replace({\"female\":1, \"male\":0})\n",
    "print(df)"
   ]
  },
  {
   "cell_type": "code",
   "execution_count": 10,
   "id": "0ae1173b",
   "metadata": {},
   "outputs": [
    {
     "name": "stdout",
     "output_type": "stream",
     "text": [
      "38.6\n"
     ]
    },
    {
     "name": "stderr",
     "output_type": "stream",
     "text": [
      "C:\\Users\\UYUN\\AppData\\Local\\Temp\\ipykernel_18148\\2314880884.py:1: UserWarning: Boolean Series key will be reindexed to match DataFrame index.\n",
      "  mean_age_female_smoker = (df[df['smoker']==1][df['sex']==1]['age']).mean()\n"
     ]
    }
   ],
   "source": [
    "mean_age_female_smoker = (df[df['smoker']==1][df['sex']==1]['age']).mean()\n",
    "print(round(mean_age_female_smoker, 1))"
   ]
  },
  {
   "cell_type": "code",
   "execution_count": 11,
   "id": "32849303",
   "metadata": {},
   "outputs": [
    {
     "name": "stdout",
     "output_type": "stream",
     "text": [
      "38.4\n"
     ]
    },
    {
     "name": "stderr",
     "output_type": "stream",
     "text": [
      "C:\\Users\\UYUN\\AppData\\Local\\Temp\\ipykernel_18148\\740482606.py:1: UserWarning: Boolean Series key will be reindexed to match DataFrame index.\n",
      "  mean_age_male_smoker = df[df['smoker']==1][df['sex']==0]['age'].mean()\n"
     ]
    }
   ],
   "source": [
    "mean_age_male_smoker = df[df['smoker']==1][df['sex']==0]['age'].mean()\n",
    "print(round(mean_age_male_smoker, 1))"
   ]
  },
  {
   "cell_type": "markdown",
   "id": "486fa18b",
   "metadata": {},
   "source": [
    "*Rata-rata umur perempuan yang merokok adalah 38.6 sedangkan untuk rata-rata umur laki-laki yang merokok adalah 38.4*"
   ]
  },
  {
   "cell_type": "markdown",
   "id": "6d53c4bc",
   "metadata": {},
   "source": [
    "5. Mana yang lebih tinggi, rata-rata tagihan kesehatan perokok atau non perokok?"
   ]
  },
  {
   "cell_type": "code",
   "execution_count": 12,
   "id": "51e7b4c5",
   "metadata": {},
   "outputs": [
    {
     "name": "stdout",
     "output_type": "stream",
     "text": [
      "32050.23183153285\n"
     ]
    }
   ],
   "source": [
    "mean_charge_smoker = df[df['smoker']==1]['charges'].mean()\n",
    "print(mean_charge_smoker)"
   ]
  },
  {
   "cell_type": "code",
   "execution_count": 13,
   "id": "2af46b22",
   "metadata": {},
   "outputs": [
    {
     "name": "stdout",
     "output_type": "stream",
     "text": [
      "8434.268297856199\n"
     ]
    }
   ],
   "source": [
    "mean_charge_noSmoker = df[df['smoker']==0]['charges'].mean()\n",
    "print(mean_charge_noSmoker)"
   ]
  },
  {
   "cell_type": "markdown",
   "id": "fed3254a",
   "metadata": {},
   "source": [
    "*Rata-rata tagihan kesehatan perokok lebih tinggi dibandingkan non perokok*"
   ]
  },
  {
   "cell_type": "markdown",
   "id": "e8676176",
   "metadata": {},
   "source": [
    "6. Mana yang lebih tinggi, rata-rata tagihan kesehatan perokok yang BMI nya diatas 25 atau non perokok yang BMI nya diatas 25"
   ]
  },
  {
   "cell_type": "code",
   "execution_count": 14,
   "id": "85e2bd04",
   "metadata": {},
   "outputs": [
    {
     "name": "stdout",
     "output_type": "stream",
     "text": [
      "35116.90965694065\n"
     ]
    },
    {
     "name": "stderr",
     "output_type": "stream",
     "text": [
      "C:\\Users\\UYUN\\AppData\\Local\\Temp\\ipykernel_18148\\4217983051.py:1: UserWarning: Boolean Series key will be reindexed to match DataFrame index.\n",
      "  mean_charge_smoker_bmi = df[df['smoker']==1][df['bmi']>25]['charges'].mean()\n"
     ]
    }
   ],
   "source": [
    "mean_charge_smoker_bmi = df[df['smoker']==1][df['bmi']>25]['charges'].mean()\n",
    "print(mean_charge_smoker_bmi)"
   ]
  },
  {
   "cell_type": "code",
   "execution_count": 15,
   "id": "ce83ba99",
   "metadata": {
    "scrolled": true
   },
   "outputs": [
    {
     "name": "stdout",
     "output_type": "stream",
     "text": [
      "8629.589609712148\n"
     ]
    },
    {
     "name": "stderr",
     "output_type": "stream",
     "text": [
      "C:\\Users\\UYUN\\AppData\\Local\\Temp\\ipykernel_18148\\2788588473.py:1: UserWarning: Boolean Series key will be reindexed to match DataFrame index.\n",
      "  mean_charge_noSmoker_bmi = df[df['smoker']==0][df['bmi']>25]['charges'].mean()\n"
     ]
    }
   ],
   "source": [
    "mean_charge_noSmoker_bmi = df[df['smoker']==0][df['bmi']>25]['charges'].mean()\n",
    "print(mean_charge_noSmoker_bmi)"
   ]
  },
  {
   "cell_type": "markdown",
   "id": "c0dd2222",
   "metadata": {},
   "source": [
    "*Rata-rata tagihan kesehatan perokok yang BMI nya diatas 25 lebih tinggi dibandingkan non perokok yang BMI nya diatas 25*"
   ]
  },
  {
   "cell_type": "markdown",
   "id": "aee2020f",
   "metadata": {},
   "source": [
    "7. BMI mana yang lebih tinggi, seseorang laki-laki atau perempuan?"
   ]
  },
  {
   "cell_type": "code",
   "execution_count": 16,
   "id": "512e3a05",
   "metadata": {},
   "outputs": [
    {
     "name": "stdout",
     "output_type": "stream",
     "text": [
      "48.07\n"
     ]
    }
   ],
   "source": [
    "max_bmi_female = df[df['sex']==1]['bmi'].max()\n",
    "print(max_bmi_female)"
   ]
  },
  {
   "cell_type": "code",
   "execution_count": 17,
   "id": "79dbcf72",
   "metadata": {},
   "outputs": [
    {
     "name": "stdout",
     "output_type": "stream",
     "text": [
      "53.13\n"
     ]
    }
   ],
   "source": [
    "max_bmi_male = df[df['sex']==0]['bmi'].max()\n",
    "print(max_bmi_male)"
   ]
  },
  {
   "cell_type": "markdown",
   "id": "4dad1dba",
   "metadata": {},
   "source": [
    "*Seorang laki-laki memiliki BMI lebih tinggi daripada perempuan*"
   ]
  },
  {
   "cell_type": "markdown",
   "id": "1fffb0cb",
   "metadata": {},
   "source": [
    "8. BMI mana yang lebih tinggi, seseorang perokok atau non perokok?"
   ]
  },
  {
   "cell_type": "code",
   "execution_count": 18,
   "id": "f13c0d87",
   "metadata": {},
   "outputs": [
    {
     "name": "stdout",
     "output_type": "stream",
     "text": [
      "52.58\n"
     ]
    }
   ],
   "source": [
    "max_bmi_smoker = df[df['smoker']==1]['bmi'].max()\n",
    "print(max_bmi_smoker)"
   ]
  },
  {
   "cell_type": "code",
   "execution_count": 19,
   "id": "eb269fee",
   "metadata": {},
   "outputs": [
    {
     "name": "stdout",
     "output_type": "stream",
     "text": [
      "53.13\n"
     ]
    }
   ],
   "source": [
    "max_bmi_noSmoker = df[df['smoker']==0]['bmi'].max()\n",
    "print(max_bmi_noSmoker)"
   ]
  },
  {
   "cell_type": "markdown",
   "id": "a092ce00",
   "metadata": {},
   "source": [
    "*Seorang non perokok memiliki BMI yang lebih tinggi daripada perokok*"
   ]
  },
  {
   "cell_type": "markdown",
   "id": "94e348ac",
   "metadata": {},
   "source": [
    "###  Analisa Variabel Kategorik (PMF)\n",
    "Untuk memperdalam analisa, identifikasi peluang kondisi tertentu yang berpotensi memiliki besaran tagihan kesehatan."
   ]
  },
  {
   "cell_type": "markdown",
   "id": "1f8d6aa2",
   "metadata": {},
   "source": [
    "1. Gender mana yang memiliki tagihan paling tinggi?"
   ]
  },
  {
   "cell_type": "code",
   "execution_count": 20,
   "id": "4f9564a5",
   "metadata": {},
   "outputs": [
    {
     "name": "stdout",
     "output_type": "stream",
     "text": [
      "63770.42801\n"
     ]
    }
   ],
   "source": [
    "max_charge_female = df[df['sex']==1]['charges'].max()\n",
    "print(max_charge_female)"
   ]
  },
  {
   "cell_type": "code",
   "execution_count": 21,
   "id": "25c2d72a",
   "metadata": {},
   "outputs": [
    {
     "name": "stdout",
     "output_type": "stream",
     "text": [
      "62592.87309\n"
     ]
    }
   ],
   "source": [
    "max_charge_male = df[df['sex']==0]['charges'].max()\n",
    "print(max_charge_male)"
   ]
  },
  {
   "cell_type": "markdown",
   "id": "a4c8fe6b",
   "metadata": {},
   "source": [
    "*Perempuan memiliki tagihan paling tinggi di bandingkan laki-laki*"
   ]
  },
  {
   "cell_type": "markdown",
   "id": "5efed7a8",
   "metadata": {},
   "source": [
    "2. Bagaimana bentuk distribusi peluang tagihan di tiap-tiap region"
   ]
  },
  {
   "cell_type": "code",
   "execution_count": 22,
   "id": "3d000bdb",
   "metadata": {},
   "outputs": [
    {
     "data": {
      "text/plain": [
       "southeast    364\n",
       "southwest    325\n",
       "northwest    325\n",
       "northeast    324\n",
       "Name: region, dtype: int64"
      ]
     },
     "execution_count": 22,
     "metadata": {},
     "output_type": "execute_result"
    }
   ],
   "source": [
    "df['region'].value_counts()"
   ]
  },
  {
   "cell_type": "code",
   "execution_count": 23,
   "id": "1efffeaf",
   "metadata": {},
   "outputs": [
    {
     "name": "stderr",
     "output_type": "stream",
     "text": [
      "C:\\Users\\UYUN\\anaconda3\\lib\\site-packages\\seaborn\\distributions.py:2619: FutureWarning: `distplot` is a deprecated function and will be removed in a future version. Please adapt your code to use either `displot` (a figure-level function with similar flexibility) or `histplot` (an axes-level function for histograms).\n",
      "  warnings.warn(msg, FutureWarning)\n"
     ]
    },
    {
     "data": {
      "text/plain": [
       "<AxesSubplot:xlabel='charges', ylabel='Density'>"
      ]
     },
     "execution_count": 23,
     "metadata": {},
     "output_type": "execute_result"
    },
    {
     "data": {
      "image/png": "[encoded data removed]",
      "text/plain": [
       "<Figure size 432x288 with 1 Axes>"
      ]
     },
     "metadata": {
      "needs_background": "light"
     },
     "output_type": "display_data"
    }
   ],
   "source": [
    "sns.distplot(df['region']=='southeast', axlabel='charges', kde=True)"
   ]
  },
  {
   "cell_type": "code",
   "execution_count": 24,
   "id": "e7b31306",
   "metadata": {},
   "outputs": [
    {
     "name": "stderr",
     "output_type": "stream",
     "text": [
      "C:\\Users\\UYUN\\anaconda3\\lib\\site-packages\\seaborn\\distributions.py:2619: FutureWarning: `distplot` is a deprecated function and will be removed in a future version. Please adapt your code to use either `displot` (a figure-level function with similar flexibility) or `histplot` (an axes-level function for histograms).\n",
      "  warnings.warn(msg, FutureWarning)\n"
     ]
    },
    {
     "data": {
      "text/plain": [
       "<AxesSubplot:xlabel='charges', ylabel='Density'>"
      ]
     },
     "execution_count": 24,
     "metadata": {},
     "output_type": "execute_result"
    },
    {
     "data": {
      "image/png": "[encoded data removed]",
      "text/plain": [
       "<Figure size 432x288 with 1 Axes>"
      ]
     },
     "metadata": {
      "needs_background": "light"
     },
     "output_type": "display_data"
    }
   ],
   "source": [
    "sns.distplot(df['region']=='southwest', axlabel='charges', kde=True)"
   ]
  },
  {
   "cell_type": "code",
   "execution_count": 25,
   "id": "9e5def45",
   "metadata": {},
   "outputs": [
    {
     "name": "stderr",
     "output_type": "stream",
     "text": [
      "C:\\Users\\UYUN\\anaconda3\\lib\\site-packages\\seaborn\\distributions.py:2619: FutureWarning: `distplot` is a deprecated function and will be removed in a future version. Please adapt your code to use either `displot` (a figure-level function with similar flexibility) or `histplot` (an axes-level function for histograms).\n",
      "  warnings.warn(msg, FutureWarning)\n"
     ]
    },
    {
     "data": {
      "text/plain": [
       "<AxesSubplot:xlabel='charges', ylabel='Density'>"
      ]
     },
     "execution_count": 25,
     "metadata": {},
     "output_type": "execute_result"
    },
    {
     "data": {
      "image/png": "[encoded data removed]",
      "text/plain": [
       "<Figure size 432x288 with 1 Axes>"
      ]
     },
     "metadata": {
      "needs_background": "light"
     },
     "output_type": "display_data"
    }
   ],
   "source": [
    "sns.distplot(df['region']=='northwest', axlabel='charges', kde=True)"
   ]
  },
  {
   "cell_type": "code",
   "execution_count": 26,
   "id": "ad3c83b6",
   "metadata": {},
   "outputs": [
    {
     "name": "stderr",
     "output_type": "stream",
     "text": [
      "C:\\Users\\UYUN\\anaconda3\\lib\\site-packages\\seaborn\\distributions.py:2619: FutureWarning: `distplot` is a deprecated function and will be removed in a future version. Please adapt your code to use either `displot` (a figure-level function with similar flexibility) or `histplot` (an axes-level function for histograms).\n",
      "  warnings.warn(msg, FutureWarning)\n"
     ]
    },
    {
     "data": {
      "image/png": "[encoded data removed]",
      "text/plain": [
       "<Figure size 432x288 with 1 Axes>"
      ]
     },
     "metadata": {
      "needs_background": "light"
     },
     "output_type": "display_data"
    }
   ],
   "source": [
    "fig = sns.distplot(df['region']=='northeast', axlabel='charges', kde=True)"
   ]
  },
  {
   "cell_type": "code",
   "execution_count": 27,
   "id": "757b956f",
   "metadata": {},
   "outputs": [
    {
     "data": {
      "text/plain": [
       "<matplotlib.legend.Legend at 0x2263ee39700>"
      ]
     },
     "execution_count": 27,
     "metadata": {},
     "output_type": "execute_result"
    },
    {
     "data": {
      "image/png": "[encoded data removed]",
      "text/plain": [
       "<Figure size 432x288 with 1 Axes>"
      ]
     },
     "metadata": {
      "needs_background": "light"
     },
     "output_type": "display_data"
    }
   ],
   "source": [
    "sns.kdeplot(df['charges'][df['region']=='southwest'], label='Southwest')\n",
    "sns.kdeplot(df['charges'][df['region']=='southeast'], label='Southeast')\n",
    "sns.kdeplot(df['charges'][df['region']=='northwest'], label='Northwest')\n",
    "sns.kdeplot(df['charges'][df['region']=='northeast'], label='Northeast')\n",
    "\n",
    "plt.legend()"
   ]
  },
  {
   "cell_type": "markdown",
   "id": "122eac4d",
   "metadata": {},
   "source": [
    "3. Apakah setiap region memiliki proporsi data banyak orang yang sama?"
   ]
  },
  {
   "cell_type": "code",
   "execution_count": 28,
   "id": "021b425d",
   "metadata": {},
   "outputs": [
    {
     "name": "stdout",
     "output_type": "stream",
     "text": [
      "1338\n"
     ]
    }
   ],
   "source": [
    "total = len(df['smoker'])\n",
    "print(total)"
   ]
  },
  {
   "cell_type": "code",
   "execution_count": 29,
   "id": "d796f53b",
   "metadata": {},
   "outputs": [
    {
     "name": "stdout",
     "output_type": "stream",
     "text": [
      "0.27204783258594917\n"
     ]
    }
   ],
   "source": [
    "total_southeast = len(df[df['region']== 'southeast'])\n",
    "proporsi_southeast = total_southeast/total\n",
    "print(proporsi_southeast)"
   ]
  },
  {
   "cell_type": "code",
   "execution_count": 30,
   "id": "a919b0db",
   "metadata": {},
   "outputs": [
    {
     "name": "stdout",
     "output_type": "stream",
     "text": [
      "0.2428998505231689\n"
     ]
    }
   ],
   "source": [
    "total_southwest = len(df[df['region']== 'southwest'])\n",
    "proporsi_soutwest = total_southwest/total\n",
    "print(proporsi_soutwest)"
   ]
  },
  {
   "cell_type": "code",
   "execution_count": 31,
   "id": "9979d878",
   "metadata": {},
   "outputs": [
    {
     "name": "stdout",
     "output_type": "stream",
     "text": [
      "0.2428998505231689\n"
     ]
    }
   ],
   "source": [
    "total_northwest = len(df[df['region']== 'northwest'])\n",
    "proporsi_northwest = total_northwest/total\n",
    "print(proporsi_northwest)"
   ]
  },
  {
   "cell_type": "code",
   "execution_count": 32,
   "id": "43ec597a",
   "metadata": {},
   "outputs": [
    {
     "name": "stdout",
     "output_type": "stream",
     "text": [
      "0.242152466367713\n"
     ]
    }
   ],
   "source": [
    "total_northeast = len(df[df['region']== 'northeast'])\n",
    "proporsi_northeast = total_northeast/total\n",
    "print(proporsi_northeast)"
   ]
  },
  {
   "cell_type": "markdown",
   "id": "c5ac416e",
   "metadata": {},
   "source": [
    "*Region northeast, northwest, dan southwest memiliki proporsi data banyak orang yang sama sedangkan untuk proporsi southeast berbeda*"
   ]
  },
  {
   "cell_type": "markdown",
   "id": "32f0c0cc",
   "metadata": {},
   "source": [
    "4. Mana yang lebih tinggi proporsi perokok atau non perokok?"
   ]
  },
  {
   "cell_type": "code",
   "execution_count": 33,
   "id": "0117d254",
   "metadata": {},
   "outputs": [
    {
     "name": "stdout",
     "output_type": "stream",
     "text": [
      "0.20478325859491778\n"
     ]
    }
   ],
   "source": [
    "smoker = len(df[df['smoker']==1])\n",
    "total_smoker = smoker/total\n",
    "print(total_smoker)"
   ]
  },
  {
   "cell_type": "code",
   "execution_count": 34,
   "id": "9ad29443",
   "metadata": {},
   "outputs": [
    {
     "name": "stdout",
     "output_type": "stream",
     "text": [
      "0.7952167414050823\n"
     ]
    }
   ],
   "source": [
    "non_smoker = len(df[df['smoker']==0])\n",
    "total_noSmoker = non_smoker/total\n",
    "print(total_noSmoker)"
   ]
  },
  {
   "cell_type": "markdown",
   "id": "5be1cafc",
   "metadata": {},
   "source": [
    "*Proporsi non perokok lebih tinggi dibandingkan perokok*"
   ]
  },
  {
   "cell_type": "markdown",
   "id": "ec8d3e6f",
   "metadata": {},
   "source": [
    "5. Berapa peluang seseorang tersebut adalah perempuan diketahui dia adalah perokok?"
   ]
  },
  {
   "cell_type": "code",
   "execution_count": 35,
   "id": "e4c8da1c",
   "metadata": {},
   "outputs": [
    {
     "name": "stdout",
     "output_type": "stream",
     "text": [
      "0.4197080291970803\n"
     ]
    },
    {
     "name": "stderr",
     "output_type": "stream",
     "text": [
      "C:\\Users\\UYUN\\AppData\\Local\\Temp\\ipykernel_18148\\3222038516.py:1: UserWarning: Boolean Series key will be reindexed to match DataFrame index.\n",
      "  condition_female_smoker = len(df[df['sex']==1][df['smoker']==1])\n"
     ]
    }
   ],
   "source": [
    "condition_female_smoker = len(df[df['sex']==1][df['smoker']==1])\n",
    "prob_female_smoker = condition_female_smoker/smoker\n",
    "print(prob_female_smoker)"
   ]
  },
  {
   "cell_type": "markdown",
   "id": "9a420484",
   "metadata": {},
   "source": [
    "6. Berapa peluang seseorang tersebut adalah laki-laki diketahui dia adalah perokok?"
   ]
  },
  {
   "cell_type": "code",
   "execution_count": 36,
   "id": "e6950d57",
   "metadata": {},
   "outputs": [
    {
     "name": "stdout",
     "output_type": "stream",
     "text": [
      "0.5802919708029197\n"
     ]
    },
    {
     "name": "stderr",
     "output_type": "stream",
     "text": [
      "C:\\Users\\UYUN\\AppData\\Local\\Temp\\ipykernel_18148\\3414754296.py:1: UserWarning: Boolean Series key will be reindexed to match DataFrame index.\n",
      "  condition_male_smoker = len(df[df['sex']==0][df['smoker']==1])\n"
     ]
    }
   ],
   "source": [
    "condition_male_smoker = len(df[df['sex']==0][df['smoker']==1])\n",
    "prob_male_smoker = condition_male_smoker/smoker\n",
    "print(prob_male_smoker)"
   ]
  },
  {
   "cell_type": "markdown",
   "id": "cc3b238a",
   "metadata": {},
   "source": [
    "###  Analisa Variabel Kontinu (CFD)\n",
    "Variabel dalam data yang ada tidak semuanya berbentuk kategorik, untuk memahami kemungkinan kondisi variabel bernilai kontinu terhadap tagihan kesehatan. Lakukan analisa CDF pada data."
   ]
  },
  {
   "cell_type": "markdown",
   "id": "b634d014",
   "metadata": {},
   "source": [
    "1. Mencari kemungkinan terjadi, BMI diatas 30 mendapat tagihan kesehatan di atas 30k"
   ]
  },
  {
   "cell_type": "code",
   "execution_count": 37,
   "id": "52cd2ee9",
   "metadata": {},
   "outputs": [
    {
     "name": "stdout",
     "output_type": "stream",
     "text": [
      "0.2297872340425532\n"
     ]
    }
   ],
   "source": [
    "cond_bmi_30 = len(df[df['bmi']>30])\n",
    "charge_30k = len(df[df['charges']>30000])\n",
    "prob_smoker_bmi_30 = charge_30k/cond_bmi_30\n",
    "print(prob_smoker_bmi_30)"
   ]
  },
  {
   "cell_type": "markdown",
   "id": "ca2d3fff",
   "metadata": {},
   "source": [
    "2. Mencari kemungkin terjadi, seorang perokok dengan BMI diatas 25 akan mendapatkan tagihan kesehatan di atas 16.700"
   ]
  },
  {
   "cell_type": "code",
   "execution_count": 38,
   "id": "6a692628",
   "metadata": {},
   "outputs": [
    {
     "name": "stdout",
     "output_type": "stream",
     "text": [
      "1.5251141552511416\n"
     ]
    },
    {
     "name": "stderr",
     "output_type": "stream",
     "text": [
      "C:\\Users\\UYUN\\AppData\\Local\\Temp\\ipykernel_18148\\627711168.py:1: UserWarning: Boolean Series key will be reindexed to match DataFrame index.\n",
      "  cond_smoker_bmi = len(df[df['smoker']==1][df['bmi']>25])\n"
     ]
    }
   ],
   "source": [
    "cond_smoker_bmi = len(df[df['smoker']==1][df['bmi']>25])\n",
    "charge_more = len(df[df['charges']>16700])\n",
    "prob_smoker_bmi = charge_more/cond_smoker_bmi\n",
    "print(prob_smoker_bmi)"
   ]
  },
  {
   "cell_type": "markdown",
   "id": "88017a73",
   "metadata": {},
   "source": [
    "3. Berapa peluang seseorang acak tagihan kesehatannya diatas 16.7k diketahui dia adalah perokok"
   ]
  },
  {
   "cell_type": "code",
   "execution_count": 39,
   "id": "34b97dd0",
   "metadata": {},
   "outputs": [
    {
     "name": "stdout",
     "output_type": "stream",
     "text": [
      "0.927007299270073\n"
     ]
    },
    {
     "name": "stderr",
     "output_type": "stream",
     "text": [
      "C:\\Users\\UYUN\\AppData\\Local\\Temp\\ipykernel_18148\\650431218.py:1: UserWarning: Boolean Series key will be reindexed to match DataFrame index.\n",
      "  condition_charges_smoker= len(df[df['charges']>16700][df['smoker']==1])\n"
     ]
    }
   ],
   "source": [
    "condition_charges_smoker= len(df[df['charges']>16700][df['smoker']==1])\n",
    "prob_charges_smoker = condition_charges_smoker/smoker\n",
    "print(prob_charges_smoker)"
   ]
  },
  {
   "cell_type": "markdown",
   "id": "2d2845a5",
   "metadata": {},
   "source": [
    "4. Mana yang lebih mungkin terjadi a. Seseorang dengan BMI diatas 25 mendapatkan tagihan kesehatan diatas 16.7k, atau b. Seseorang dengan BMI dibawah 25 mendapatkan tagihan kesehatan diatas 16.7k\n"
   ]
  },
  {
   "cell_type": "code",
   "execution_count": 40,
   "id": "bd828cf0",
   "metadata": {},
   "outputs": [
    {
     "name": "stdout",
     "output_type": "stream",
     "text": [
      "0.21150971599402094\n"
     ]
    },
    {
     "name": "stderr",
     "output_type": "stream",
     "text": [
      "C:\\Users\\UYUN\\AppData\\Local\\Temp\\ipykernel_18148\\3486318858.py:1: UserWarning: Boolean Series key will be reindexed to match DataFrame index.\n",
      "  more_bmi_charge = len(df[df['charges']>16700][df['bmi'] > 25])\n"
     ]
    }
   ],
   "source": [
    "more_bmi_charge = len(df[df['charges']>16700][df['bmi'] > 25])\n",
    "cond_more_bmicharge = more_bmi_charge/total\n",
    "print(cond_more_bmicharge)"
   ]
  },
  {
   "cell_type": "code",
   "execution_count": 41,
   "id": "8d274359",
   "metadata": {},
   "outputs": [
    {
     "name": "stdout",
     "output_type": "stream",
     "text": [
      "0.03811659192825112\n"
     ]
    },
    {
     "name": "stderr",
     "output_type": "stream",
     "text": [
      "C:\\Users\\UYUN\\AppData\\Local\\Temp\\ipykernel_18148\\3794327297.py:1: UserWarning: Boolean Series key will be reindexed to match DataFrame index.\n",
      "  less_bmi_charge = len(df[df['charges']>16700][df['bmi'] < 25])\n"
     ]
    }
   ],
   "source": [
    "less_bmi_charge = len(df[df['charges']>16700][df['bmi'] < 25])\n",
    "cond_less_bmicharge = less_bmi_charge/total\n",
    "print(cond_less_bmicharge)"
   ]
  },
  {
   "cell_type": "markdown",
   "id": "f3a92a56",
   "metadata": {},
   "source": [
    "*Lebih mungkin terjadi seseorang dengan BMI diatas 25 mendapatkan tagihan kesehatan diatas 16.7k*"
   ]
  },
  {
   "cell_type": "markdown",
   "id": "d2238436",
   "metadata": {},
   "source": [
    "5. Mana yang lebih mungkin terjadi a. Seseorang perokok dengan BMI diatas 25 mendapatkan tagihan kesehatan diatas 16.7k, atau b. Seseorang non perokok dengan BMI diatas 25 mendapatkan tagihan kesehatan diatas 16.7k"
   ]
  },
  {
   "cell_type": "code",
   "execution_count": 42,
   "id": "a13aaff0",
   "metadata": {},
   "outputs": [
    {
     "name": "stdout",
     "output_type": "stream",
     "text": [
      "1.5251141552511416\n"
     ]
    }
   ],
   "source": [
    "print(prob_smoker_bmi)"
   ]
  },
  {
   "cell_type": "code",
   "execution_count": 43,
   "id": "2ae4a767",
   "metadata": {},
   "outputs": [
    {
     "name": "stdout",
     "output_type": "stream",
     "text": [
      "0.3830275229357798\n"
     ]
    },
    {
     "name": "stderr",
     "output_type": "stream",
     "text": [
      "C:\\Users\\UYUN\\AppData\\Local\\Temp\\ipykernel_18148\\3479486769.py:1: UserWarning: Boolean Series key will be reindexed to match DataFrame index.\n",
      "  cond_noSmoker_bmi = len(df[df['smoker']==0][df['bmi']>25])\n"
     ]
    }
   ],
   "source": [
    "cond_noSmoker_bmi = len(df[df['smoker']==0][df['bmi']>25])\n",
    "prob_more_bmi_noSmoker = charge_more/cond_noSmoker_bmi\n",
    "print(prob_more_bmi_noSmoker)"
   ]
  },
  {
   "cell_type": "markdown",
   "id": "51259cb2",
   "metadata": {},
   "source": [
    "*Lebih mungkin terjadi seorang perokok dengan BMI diatas 25 mendapatkan tagihan kesehatan diatas 16.7k*"
   ]
  },
  {
   "cell_type": "markdown",
   "id": "d043a00c",
   "metadata": {},
   "source": [
    "###  Analisa  Korelasi Variabel\n",
    "Selanjutnya cari hubungan antara kondisi-kondisi yang ada dengan tagihan kesehatan."
   ]
  },
  {
   "cell_type": "code",
   "execution_count": 44,
   "id": "0e1d57e2",
   "metadata": {},
   "outputs": [
    {
     "data": {
      "image/png": "[encoded data removed]",
      "text/plain": [
       "<Figure size 648x432 with 2 Axes>"
      ]
     },
     "metadata": {
      "needs_background": "light"
     },
     "output_type": "display_data"
    }
   ],
   "source": [
    "corr = df.corr()\n",
    "\n",
    "f,ax = plt.subplots(figsize=(9,6))\n",
    "sns.heatmap(corr, annot=True, linewidths=1.5, fmt='.2f', ax=ax)\n",
    "plt.show()"
   ]
  },
  {
   "cell_type": "markdown",
   "id": "0d56ab6d",
   "metadata": {},
   "source": [
    "*Dari gambar di atas maka dapat disimpulkan bahwa tagihan memiliki korelasi yang baik dengan perokok, umur dan BMI. Diantara kondisi yang ada korelasi paling tinggi terjadi antara tagihan kesehatan dan perokok.*"
   ]
  },
  {
   "cell_type": "markdown",
   "id": "c18fc85a",
   "metadata": {},
   "source": [
    "Perokok, Umur dan BMI berkorelasi positif dengan Tagihan Kesehatan karena nilainya mendekati 1"
   ]
  },
  {
   "cell_type": "markdown",
   "id": "5d6987b3",
   "metadata": {},
   "source": [
    "###  Pengujian Hipotesis\n",
    "Langkah terakhir, mencari apakah ada bukti statistik yang cukup terhadap klaim atau hipotesis tentang tagihan kesehatan"
   ]
  },
  {
   "cell_type": "markdown",
   "id": "7193ac00",
   "metadata": {},
   "source": [
    "1. Tagihan kesehatan perokok lebih tinggi daripada tagihan kesehatan non perokok"
   ]
  },
  {
   "cell_type": "code",
   "execution_count": 45,
   "id": "46843e76",
   "metadata": {},
   "outputs": [
    {
     "name": "stdout",
     "output_type": "stream",
     "text": [
      "Statistik : 46.66492117272371 dan P-value : 4.135717921089551e-283\n"
     ]
    }
   ],
   "source": [
    "Ho = \"Tagihan kesehatan bagi perokok dan non perokok sama\"\n",
    "Ha = \"Tagihan kesehatan bagi perokok lebih tinggi\"\n",
    "\n",
    "stat, p = stats.ttest_ind(df[df['smoker']==1]['charges'], df[df['smoker']==0]['charges'])\n",
    "print('Statistik :', stat,'dan P-value :',(p/2))"
   ]
  },
  {
   "cell_type": "code",
   "execution_count": 46,
   "id": "31ce841e",
   "metadata": {},
   "outputs": [],
   "source": [
    "alpha = 0.05"
   ]
  },
  {
   "cell_type": "code",
   "execution_count": 47,
   "id": "587f50fa",
   "metadata": {},
   "outputs": [
    {
     "name": "stdout",
     "output_type": "stream",
     "text": [
      "Tolak Ho, Ho yaitu Tagihan kesehatan bagi perokok dan non perokok sama\n"
     ]
    }
   ],
   "source": [
    "# Pengambilan Keputusan\n",
    "if p > alpha:\n",
    "    print('Gagal tolak Ho, Ho yaitu', Ho) \n",
    "else:\n",
    "    print('Tolak Ho, Ho yaitu', Ho)"
   ]
  },
  {
   "cell_type": "markdown",
   "id": "8ce961b1",
   "metadata": {},
   "source": [
    "*Dari pengujian diatas dapat disimpulkan bahwa tagihan kesehatan perokok lebih tinggi daripada tagihan kesehatan non perokok*"
   ]
  },
  {
   "cell_type": "markdown",
   "id": "c7ccf6af",
   "metadata": {},
   "source": [
    "2. Tagihan kesehatan dengan BMI diatas 25 lebih tinggi daripada tagihan kesehatan dengan BMI dibawah 25"
   ]
  },
  {
   "cell_type": "code",
   "execution_count": 48,
   "id": "b55c7b8b",
   "metadata": {},
   "outputs": [
    {
     "name": "stdout",
     "output_type": "stream",
     "text": [
      "Statistik : 4.305033989510502 dan P-value : 8.958227797305148e-06\n"
     ]
    }
   ],
   "source": [
    "Ho = \"tagihan kesehatan dengan BMI diatas 25 dan dibawah 25 adalah sama\" \n",
    "Ha = \"tagihan kesehatan dengan BMI diatas 25 lebih tinggi\" \n",
    "\n",
    "stat, p = stats.ttest_ind(df[df['bmi']>25]['charges'], df[df['bmi']<25]['charges'])\n",
    "print('Statistik :', stat,'dan P-value :',(p/2))"
   ]
  },
  {
   "cell_type": "code",
   "execution_count": 49,
   "id": "77622edb",
   "metadata": {},
   "outputs": [
    {
     "name": "stdout",
     "output_type": "stream",
     "text": [
      "Tolak Ho, Ho yaitu tagihan kesehatan dengan BMI diatas 25 dan dibawah 25 adalah sama\n"
     ]
    }
   ],
   "source": [
    "if p > alpha:\n",
    "    print('Gagal tolak Ho, Ho yaitu', Ho) \n",
    "else:\n",
    "    print('Tolak Ho, Ho yaitu', Ho)"
   ]
  },
  {
   "cell_type": "markdown",
   "id": "5e10ea40",
   "metadata": {},
   "source": [
    "*Dari pengujian diatas dapat disimpulkan bahwa tagihan kesehatan dengan BMI diatas 25 lebih tinggi daripada tagihan kesehatan dengan BMI dibawah 25*"
   ]
  },
  {
   "cell_type": "markdown",
   "id": "af59d031",
   "metadata": {},
   "source": [
    "3. BMI laki-laki dan perempuan berbeda"
   ]
  },
  {
   "cell_type": "code",
   "execution_count": 50,
   "id": "a5c795fa",
   "metadata": {},
   "outputs": [
    {
     "name": "stdout",
     "output_type": "stream",
     "text": [
      "Statistik : 1.696752635752224 dan P-value : 0.08997637178984932\n"
     ]
    }
   ],
   "source": [
    "Ho = \"BMI laki-laki dan perempuan tidak berbeda (sama)\"\n",
    "Ha = \"BMI laki-laki dan perempuan beda\" \n",
    "\n",
    "stat, p  = stats.ttest_ind(df[df['sex']==0]['bmi'], df[df['sex']==1]['bmi'])\n",
    "print('Statistik :', stat,'dan P-value :',(p))"
   ]
  },
  {
   "cell_type": "code",
   "execution_count": 51,
   "id": "39ed2fae",
   "metadata": {},
   "outputs": [
    {
     "name": "stdout",
     "output_type": "stream",
     "text": [
      "Gagal tolak Ho, Ho yaitu BMI laki-laki dan perempuan tidak berbeda (sama)\n"
     ]
    }
   ],
   "source": [
    "if p > alpha:\n",
    "    print('Gagal tolak Ho, Ho yaitu', Ho) \n",
    "else:\n",
    "    print('Tolak Ho, Ho yaitu', Ho)"
   ]
  },
  {
   "cell_type": "markdown",
   "id": "a7195ed0",
   "metadata": {},
   "source": [
    "*Dari pengujian diatas menghasilkan gagal tolak hipotesis nol, yang berarti dapat disimpulkan bahwa BMI dari laki-laki dan perempuan tidak berbeda/sama*"
   ]
  },
  {
   "cell_type": "markdown",
   "id": "8c2185b9",
   "metadata": {},
   "source": [
    "4. Proporsi perokok berbeda di tiap region "
   ]
  },
  {
   "cell_type": "code",
   "execution_count": 52,
   "id": "82b6b72f",
   "metadata": {},
   "outputs": [
    {
     "data": {
      "text/html": [
       "<div>\n",
       "<style scoped>\n",
       "    .dataframe tbody tr th:only-of-type {\n",
       "        vertical-align: middle;\n",
       "    }\n",
       "\n",
       "    .dataframe tbody tr th {\n",
       "        vertical-align: top;\n",
       "    }\n",
       "\n",
       "    .dataframe thead th {\n",
       "        text-align: right;\n",
       "    }\n",
       "</style>\n",
       "<table border=\"1\" class=\"dataframe\">\n",
       "  <thead>\n",
       "    <tr style=\"text-align: right;\">\n",
       "      <th>region</th>\n",
       "      <th>northeast</th>\n",
       "      <th>northwest</th>\n",
       "      <th>southeast</th>\n",
       "      <th>southwest</th>\n",
       "      <th>All</th>\n",
       "    </tr>\n",
       "    <tr>\n",
       "      <th>smoker</th>\n",
       "      <th></th>\n",
       "      <th></th>\n",
       "      <th></th>\n",
       "      <th></th>\n",
       "      <th></th>\n",
       "    </tr>\n",
       "  </thead>\n",
       "  <tbody>\n",
       "    <tr>\n",
       "      <th>0</th>\n",
       "      <td>257</td>\n",
       "      <td>267</td>\n",
       "      <td>273</td>\n",
       "      <td>267</td>\n",
       "      <td>1064</td>\n",
       "    </tr>\n",
       "    <tr>\n",
       "      <th>1</th>\n",
       "      <td>67</td>\n",
       "      <td>58</td>\n",
       "      <td>91</td>\n",
       "      <td>58</td>\n",
       "      <td>274</td>\n",
       "    </tr>\n",
       "    <tr>\n",
       "      <th>All</th>\n",
       "      <td>324</td>\n",
       "      <td>325</td>\n",
       "      <td>364</td>\n",
       "      <td>325</td>\n",
       "      <td>1338</td>\n",
       "    </tr>\n",
       "  </tbody>\n",
       "</table>\n",
       "</div>"
      ],
      "text/plain": [
       "region  northeast  northwest  southeast  southwest   All\n",
       "smoker                                                  \n",
       "0             257        267        273        267  1064\n",
       "1              67         58         91         58   274\n",
       "All           324        325        364        325  1338"
      ]
     },
     "execution_count": 52,
     "metadata": {},
     "output_type": "execute_result"
    }
   ],
   "source": [
    "Ho = \"proporsi perokok sama di tiap region\" \n",
    "Ha = \"Proporsi perokok berbeda di tiap region\"\n",
    "\n",
    "contingency= pd.crosstab(df['smoker'], df['region'], margins=True) \n",
    "contingency"
   ]
  },
  {
   "cell_type": "code",
   "execution_count": 53,
   "id": "cb819fb4",
   "metadata": {},
   "outputs": [
    {
     "name": "stdout",
     "output_type": "stream",
     "text": [
      "0.06171954839170547\n"
     ]
    }
   ],
   "source": [
    "value = np.array([contingency.iloc[0][0:4].values,contingency.iloc[1][0:4].values]) \n",
    "c, p, dof, expected = stats.chi2_contingency(value)\n",
    "print(p)"
   ]
  },
  {
   "cell_type": "code",
   "execution_count": 54,
   "id": "07d9fd1b",
   "metadata": {},
   "outputs": [
    {
     "name": "stdout",
     "output_type": "stream",
     "text": [
      "Gagal tolak Ho, Ho yaitu proporsi perokok sama di tiap region\n"
     ]
    }
   ],
   "source": [
    "if p > alpha:\n",
    "    print('Gagal tolak Ho, Ho yaitu', Ho) \n",
    "else:\n",
    "    print('Tolak Ho, Ho yaitu', Ho)"
   ]
  },
  {
   "cell_type": "markdown",
   "id": "3b5da590",
   "metadata": {},
   "source": [
    "*Dari pengujian diatas menghasilkan gagal tolak hipotesis nol, yang berarti dapat disimpulkan bahwa Proporsi perokok sama di tiap region*"
   ]
  }
 ],
 "metadata": {
  "kernelspec": {
   "display_name": "Python 3 (ipykernel)",
   "language": "python",
   "name": "python3"
  },
  "language_info": {
   "codemirror_mode": {
    "name": "ipython",
    "version": 3
   },
   "file_extension": ".py",
   "mimetype": "text/x-python",
   "name": "python",
   "nbconvert_exporter": "python",
   "pygments_lexer": "ipython3",
   "version": "3.9.12"
  }
 },
 "nbformat": 4,
 "nbformat_minor": 5
}
